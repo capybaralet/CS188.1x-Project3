{
 "cells": [
  {
   "cell_type": "code",
   "execution_count": 1,
   "metadata": {
    "collapsed": true
   },
   "outputs": [],
   "source": [
    "%gui tk\n",
    "\n",
    "import mdp\n",
    "import environment\n",
    "import gridworld\n",
    "import nbrun\n",
    "import qlearningAgents"
   ]
  },
  {
   "cell_type": "code",
   "execution_count": 2,
   "metadata": {
    "collapsed": false
   },
   "outputs": [],
   "source": [
    "mdp = gridworld.getBookGrid()\n",
    "mdp.setLivingReward(0)\n",
    "mdp.setNoise(.1)\n",
    "\n",
    "opts=nbrun.Opts(display=False)\n",
    "\n",
    "\n",
    "qLearnOpts = {'gamma': .9, \n",
    "              'alpha': .1, \n",
    "              'epsilon': .1,\n",
    "              'actionFn': lambda state: mdp.getPossibleActions(state)}\n",
    "\n",
    "a = qlearningAgents.QLearningAgent(**qLearnOpts)"
   ]
  },
  {
   "cell_type": "code",
   "execution_count": null,
   "metadata": {
    "collapsed": false
   },
   "outputs": [],
   "source": []
  },
  {
   "cell_type": "code",
   "execution_count": 3,
   "metadata": {
    "collapsed": false
   },
   "outputs": [
    {
     "name": "stdout",
     "output_type": "stream",
     "text": [
      "\n",
      "AVERAGE RETURNS FROM START STATE: 0.0153414873648\n",
      "\n",
      "\n"
     ]
    }
   ],
   "source": [
    "nbrun.runAgent(a, mdp, opts)"
   ]
  },
  {
   "cell_type": "code",
   "execution_count": null,
   "metadata": {
    "collapsed": true
   },
   "outputs": [],
   "source": []
  }
 ],
 "metadata": {
  "kernelspec": {
   "display_name": "Python 2",
   "language": "python",
   "name": "python2"
  },
  "language_info": {
   "codemirror_mode": {
    "name": "ipython",
    "version": 2
   },
   "file_extension": ".py",
   "mimetype": "text/x-python",
   "name": "python",
   "nbconvert_exporter": "python",
   "pygments_lexer": "ipython2",
   "version": "2.7.10"
  }
 },
 "nbformat": 4,
 "nbformat_minor": 0
}
